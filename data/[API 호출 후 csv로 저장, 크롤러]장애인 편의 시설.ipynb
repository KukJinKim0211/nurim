{
 "cells": [
  {
   "cell_type": "code",
   "execution_count": null,
   "id": "b6364f6d",
   "metadata": {},
   "outputs": [],
   "source": [
    "import chromedriver_autoinstaller\n",
    "chromedriver_autoinstaller.install()\n",
    "from selenium import webdriver\n",
    "\n",
    "# -*- coding: UTF-8 -*-\n",
    "import time\n",
    "from selenium import webdriver\n",
    "from selenium.webdriver.common.by import By\n",
    "from selenium.webdriver.support.ui import WebDriverWait\n",
    "from selenium.webdriver.support import expected_conditions as EC\n",
    "from bs4 import BeautifulSoup\n",
    "import sys \n",
    "import pandas as pd\n",
    "import requests\n",
    "import time"
   ]
  },
  {
   "cell_type": "code",
   "execution_count": null,
   "id": "f4e6ed1f",
   "metadata": {},
   "outputs": [],
   "source": [
    "webdriver_options = webdriver.ChromeOptions()\n",
    "webdriver_options .add_argument('headless')\n",
    "web_driver = webdriver.Chrome(options=webdriver_options)\n",
    "url = \"https://map.kakao.com/\"\n",
    "web_driver.get(url)\n",
    "time.sleep(3)"
   ]
  },
  {
   "cell_type": "markdown",
   "id": "ee63b9c5",
   "metadata": {},
   "source": [
    "## 장소에 대한 전화번호, 운영 시간 크롤링"
   ]
  },
  {
   "cell_type": "code",
   "execution_count": null,
   "id": "fd350a0b",
   "metadata": {},
   "outputs": [],
   "source": [
    "def getPhoneAndOpening_hours(placeName):\n",
    "    if not placeName:\n",
    "        return [None,None]\n",
    "    search_input = WebDriverWait(web_driver, 20).until(EC.visibility_of_element_located((By.XPATH,'//*[@id=\"search.keyword.query\"]')))\n",
    "    search_input.click()\n",
    "    search_input.clear()\n",
    "    search_input.send_keys(placeName)\n",
    "    print(placeName,end=\" \")\n",
    "    search_input.send_keys(\"\\n\")\n",
    "    # web_driver.implicitly_wait(10)\n",
    "    html = web_driver.page_source\n",
    "    soup = BeautifulSoup(html,'html.parser')\n",
    "    soup = soup.find('ul',class_='placelist').find('li',class_=\"PlaceItem clickArea\")\n",
    "    if soup:\n",
    "        phone = soup.find('span',class_='phone').text\n",
    "        opening_hours=soup.find('p',class_='periodWarp').find('a').text\n",
    "        return [phone,opening_hours]\n",
    "    else:\n",
    "        return [None,None]\n",
    "        "
   ]
  },
  {
   "cell_type": "markdown",
   "id": "fdaa0423",
   "metadata": {},
   "source": [
    "## 데이터 저장"
   ]
  },
  {
   "cell_type": "code",
   "execution_count": null,
   "id": "1d3229da",
   "metadata": {},
   "outputs": [],
   "source": [
    "def save(rows):\n",
    "    df= pd.DataFrame(rows,columns=df_cols)\n",
    "    try:\n",
    "        data = pd.read_csv(\"장애인편의시설.csv\", encoding='utf-8-sig')\n",
    "        df2 = pd.DataFrame(data)\n",
    "        new_df = pd.concat([df, df2])\n",
    "        new_df.drop_duplicates()\n",
    "        new_df.to_csv(\"장애인편의시설.csv\",index=False, encoding=\"utf-8-sig\")\n",
    "    except:\n",
    "        df.to_csv(\"장애인편의시설.csv\",index=False, encoding=\"utf-8-sig\")\n",
    "        data = pd.read_csv(\"장애인편의시설.csv\", encoding='utf-8-sig')\n",
    "        new_df = pd.DataFrame(data)"
   ]
  },
  {
   "cell_type": "markdown",
   "id": "1993103b",
   "metadata": {},
   "source": [
    "# [특정 장애인편의시설 내 가구표 조회]상세기능명세 api 호출"
   ]
  },
  {
   "cell_type": "code",
   "execution_count": null,
   "id": "719371d4",
   "metadata": {},
   "outputs": [],
   "source": [
    "serviceKey = 'YOUR_KEY'\n",
    "def getFacList(wfcltId):\n",
    "    url = 'http://apis.data.go.kr/B554287/DisabledPersonConvenientFacility/getFacInfoOpenApiJpEvalInfoList'\n",
    "    global serviceKey\n",
    "    params = {'serviceKey' : serviceKey, 'wfcltId' : wfcltId}\n",
    "    response = requests.get(url, params=params)\n",
    "    soup = BeautifulSoup(response.text,'lxml-xml')\n",
    "    evalInfo=None\n",
    "    if soup.find(\"servList\"):\n",
    "        soup = soup.find(\"servList\")\n",
    "        evalInfo = \"API Request Fail\"\n",
    "        if soup.find(\"evalInfo\"):\n",
    "            evalInfo = soup.find(\"evalInfo\").text\n",
    "    return evalInfo"
   ]
  },
  {
   "cell_type": "markdown",
   "id": "aaf51adf",
   "metadata": {},
   "source": [
    "## api 호출 및 데이터 저장"
   ]
  },
  {
   "cell_type": "code",
   "execution_count": null,
   "id": "8ee21e6e",
   "metadata": {},
   "outputs": [],
   "source": [
    "url = 'http://apis.data.go.kr/B554287/DisabledPersonConvenientFacility/getDisConvFaclList'\n",
    "detail_url = 'http://apis.data.go.kr/B554287/DisabledPersonConvenientFacility/getFacInfoOpenApiJpEvalInfoList'\n",
    "pageNo=list(range(265,271))\n",
    "\n",
    "df_cols=[\"faclNm\",\"faclTyCd\",\"lcMnad\",\"faclLat\",\"faclLng\",\"salStaDivCd\",\"wfcltId\",\"phone\",\"opening_hours\",\"evalInfo\"]\n",
    "\n",
    "\n",
    "for page in pageNo:\n",
    "    global serviceKey\n",
    "    params = {'serviceKey' : serviceKey, 'pageNo' : page,'numOfRows':500 }\n",
    "    response = requests.get(url, params=params)\n",
    "    soup = BeautifulSoup(response.text,'lxml-xml')\n",
    "    items = soup.find_all(\"servList\")\n",
    "    rows=[]\n",
    "    i=0\n",
    "    for item in items:\n",
    "        if item is None:\n",
    "            pass\n",
    "        faclNm=item.find(\"faclNm\").get_text() if item.find(\"faclNm\") is not None else None\n",
    "        faclTyCd=item.find(\"faclTyCd\").get_text() if item.find(\"faclTyCd\") is not None else None\n",
    "        lcMnad=item.find(\"lcMnad\").get_text() if item.find(\"lcMnad\") is not None else None\n",
    "        faclLat=item.find(\"faclLat\").get_text() if item.find(\"faclLat\") is not None else None\n",
    "        faclLng=item.find(\"faclLng\").get_text() if item.find(\"faclLng\") is not None else None\n",
    "        salStaDivCd=item.find(\"salStaDivCd\").get_text() if item.find(\"salStaDivCd\") is not None else None\n",
    "        wfcltId=item.find(\"wfcltId\").get_text() if item.find(\"wfcltId\") is not None else None\n",
    "        flag = True\n",
    "        while flag:\n",
    "        # 전화번호, 영업시간\n",
    "            try:\n",
    "                result = getPhoneAndOpening_hours(faclNm)\n",
    "                flag=False\n",
    "            except:\n",
    "                #해당 url로 이동\n",
    "                kakao_url = \"https://map.kakao.com/\" \n",
    "                web_driver.get(kakao_url)\n",
    "                web_driver.implicitly_wait(20)\n",
    "                flag=True\n",
    "        # 시설 기구표\n",
    "        evalInfo = getFacList(wfcltId)\n",
    "        \n",
    "        row={\"faclNm\":faclNm, \"faclTyCd\":faclTyCd,\n",
    "                    \"lcMnad\":lcMnad,\"faclLat\":faclLat,\n",
    "                    \"faclLng\":faclLng,\"salStaDivCd\":salStaDivCd,\n",
    "                    \"wfcltId\":wfcltId,\"phone\":result[0],\n",
    "                    \"opening_hours\":result[1],\"evalInfo\":evalInfo}\n",
    "        print((page-1)*500+i)\n",
    "        i+=1\n",
    "        rows.append(row)\n",
    "    save(rows)\n",
    "    print(page,\" 완료\")\n"
   ]
  }
 ],
 "metadata": {
  "kernelspec": {
   "display_name": "Python 3",
   "language": "python",
   "name": "python3"
  },
  "language_info": {
   "codemirror_mode": {
    "name": "ipython",
    "version": 3
   },
   "file_extension": ".py",
   "mimetype": "text/x-python",
   "name": "python",
   "nbconvert_exporter": "python",
   "pygments_lexer": "ipython3",
   "version": "3.8.8"
  }
 },
 "nbformat": 4,
 "nbformat_minor": 5
}
