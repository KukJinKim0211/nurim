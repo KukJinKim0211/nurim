{
 "cells": [
  {
   "cell_type": "markdown",
   "id": "7adf2a3b",
   "metadata": {},
   "source": [
    "## read csv & dataframe concat"
   ]
  },
  {
   "cell_type": "code",
   "execution_count": 1,
   "id": "0195354d",
   "metadata": {},
   "outputs": [],
   "source": [
    "import os\n",
    "import pandas as pd\n",
    "\n",
    "data = pd.read_csv(os.getcwd()+\"/장애인편의시설.csv\",encoding='utf-8')"
   ]
  },
  {
   "cell_type": "markdown",
   "id": "91fe2d37",
   "metadata": {},
   "source": [
    "## 데이터 확인"
   ]
  },
  {
   "cell_type": "code",
   "execution_count": 2,
   "id": "768b3818",
   "metadata": {},
   "outputs": [
    {
     "name": "stdout",
     "output_type": "stream",
     "text": [
      "<class 'pandas.core.frame.DataFrame'>\n",
      "Int64Index: 88450 entries, 0 to 32999\n",
      "Data columns (total 10 columns):\n",
      " #   Column         Non-Null Count  Dtype  \n",
      "---  ------         --------------  -----  \n",
      " 0   faclNm         88417 non-null  object \n",
      " 1   faclTyCd       88450 non-null  object \n",
      " 2   lcMnad         88450 non-null  object \n",
      " 3   faclLat        86416 non-null  float64\n",
      " 4   faclLng        86416 non-null  float64\n",
      " 5   salStaDivCd    88450 non-null  object \n",
      " 6   wfcltId        88450 non-null  int64  \n",
      " 7   phone          35781 non-null  object \n",
      " 8   opening_hours  8636 non-null   object \n",
      " 9   evalInfo       87147 non-null  object \n",
      "dtypes: float64(2), int64(1), object(7)\n",
      "memory usage: 7.4+ MB\n"
     ]
    }
   ],
   "source": [
    "df.info()"
   ]
  },
  {
   "cell_type": "markdown",
   "id": "b33d7214",
   "metadata": {},
   "source": [
    "## 결측값, 폐업한 곳 제거"
   ]
  },
  {
   "cell_type": "code",
   "execution_count": 3,
   "id": "2047e741",
   "metadata": {},
   "outputs": [
    {
     "name": "stdout",
     "output_type": "stream",
     "text": [
      "초기 88450\n",
      "시설물명 미입력 제거 후 87403\n",
      "시설물명 None 제거 후 87370\n",
      "폐업한 곳 제거 후: 87123\n",
      "위경도 X: 85199\n",
      "시설물 정보 X: 83934\n",
      "<class 'pandas.core.frame.DataFrame'>\n",
      "Int64Index: 83934 entries, 0 to 32999\n",
      "Data columns (total 10 columns):\n",
      " #   Column         Non-Null Count  Dtype  \n",
      "---  ------         --------------  -----  \n",
      " 0   faclNm         83934 non-null  object \n",
      " 1   faclTyCd       83934 non-null  object \n",
      " 2   lcMnad         83934 non-null  object \n",
      " 3   faclLat        83934 non-null  float64\n",
      " 4   faclLng        83934 non-null  float64\n",
      " 5   salStaDivCd    83934 non-null  object \n",
      " 6   wfcltId        83934 non-null  int64  \n",
      " 7   phone          34130 non-null  object \n",
      " 8   opening_hours  8204 non-null   object \n",
      " 9   evalInfo       83934 non-null  object \n",
      "dtypes: float64(2), int64(1), object(7)\n",
      "memory usage: 7.0+ MB\n"
     ]
    }
   ],
   "source": [
    "print('초기',len(df))\n",
    "none = df[\"faclNm\"].isin([\"시설물명 미입력\"])\n",
    "df = df[~none]\n",
    "print('시설물명 미입력 제거 후',len(df))\n",
    "null = df[\"faclNm\"].isnull()\n",
    "df = df[~null]\n",
    "print('시설물명 None 제거 후',len(df))\n",
    "closed = df[\"salStaDivCd\"].isin([\"N\"])\n",
    "df = df[~closed]\n",
    "print(\"폐업한 곳 제거 후:\",len(df))\n",
    "latIsNone = df[\"faclLat\"].isnull()\n",
    "df = df[~latIsNone]\n",
    "print(\"위경도 X:\",len(df))\n",
    "evalInfoIsNone = df[\"evalInfo\"].isnull()\n",
    "df = df[~evalInfoIsNone]\n",
    "print(\"시설물 정보 X:\",len(df))\n",
    "df.info()"
   ]
  },
  {
   "cell_type": "markdown",
   "id": "a038ec1c",
   "metadata": {},
   "source": [
    "## 컬럼명 변경\n",
    "salStaDivCd: 영업상태구분코드 - Y : 영업, N : 폐업  \n",
    "wfcltId: 시설ID  \n",
    "evalInfo: 기구표목록"
   ]
  },
  {
   "cell_type": "code",
   "execution_count": 4,
   "id": "a0576894",
   "metadata": {},
   "outputs": [
    {
     "data": {
      "text/plain": [
       "Index(['location_name', 'sub_category_id', 'address', 'lat', 'lng',\n",
       "       'salStaDivCd', 'wfcltId', 'phone', 'opening_hours', 'facilities'],\n",
       "      dtype='object')"
      ]
     },
     "execution_count": 4,
     "metadata": {},
     "output_type": "execute_result"
    }
   ],
   "source": [
    "df = df.rename(columns={'faclNm' : 'location_name',\n",
    "                       'lcMnad':'address',\n",
    "                       'faclLat':'lat',\n",
    "                       'faclLng':'lng',\n",
    "                       'faclTyCd':'sub_category_id',\n",
    "                       'evalInfo':'facilities'\n",
    "                       })\n",
    "df.columns"
   ]
  },
  {
   "cell_type": "markdown",
   "id": "c3618eea",
   "metadata": {},
   "source": [
    "## 편의시설 분류\n",
    "01: 공공기관  \n",
    "02: 교육시설  \n",
    "03: 공공시설  \n",
    "04: 복지시설  \n",
    "05: 상업시설  \n",
    "06: 문화, 종교, 체육시설  \n",
    "07: 의료시설  \n",
    "08: 장례시설  \n",
    "09: 숙박시설  \n",
    "10: 금융시설  \n",
    "11: 주거시설  \n",
    "12: 공단시설  "
   ]
  },
  {
   "cell_type": "code",
   "execution_count": 5,
   "id": "691daef8",
   "metadata": {},
   "outputs": [],
   "source": [
    "code={\"01\":[\"UC0A05\",\"UC0K03\",\"UC0O02\",\"UC0K04\",\"UC0K06\",\"UC0A04\",  \n",
    "            \"UC0A08\",\"UC0A09\",\"UC0A11\",\"UC0K01\",\"UC0K05\",\"UC0A10\",\"UC0P01\"],  \n",
    "     \"02\":[\"UC0H01\",\"UC0G02\",\"UC0G03\",\"UC0G08\",\"UC0G01\",\"UC0I01\",\"UC0I02\",  \n",
    "          \"UC0N02\",\"UC0G04\",\"UC0G05\",\"UC0G06\",\"UC0G07\"],\n",
    "     \"03\":[\"UC0N01\",\"UC0R02\",\"UC0A12\",\"UC0A13\"],\n",
    "     \"04\":[\"UC0H03\",\"UC0H02\",\"UC0H04\",\"UC0H05\",\"UC0A15\"],\n",
    "     \"05\":[\"UC0A01\",\"UC0A02\",\"UC0O01\",\"UC0E01\",\"UC0B02\",\"UC0B01\"],\n",
    "     \"06\":[\"UC0C02\",\"UC0B03\",\"UC0G09\",\"UC0T02\",\"UC0J02\",\"UC0T01\",\"UC0A03\",\n",
    "          \"UC0A07\",\"UC0C01\",\"UC0C04\",\"UC0R01\",\"UC0J01\",\"UC0C03\",\"UC0D01\",\"UC0C05\"],\n",
    "     \"07\":[\"UC0F01\",\"UC0F03\",\"UC0F02\",\"UC0A14\",\"UC0A06\"],\n",
    "     \"08\":[\"UC0S01\",\"UC0Q02\",\"UC0Q01\"],\n",
    "     \"09\":[\"UC0L01\",\"UC0V01\",\"UC0L02\"],\n",
    "     \"10\":[\"UC0K02\"],\n",
    "     \"11\":[\"UC0U04\",\"UC0U01\",\"UC0U03\",\"UC0U02\"],\n",
    "     \"12\":[\"UC0M01\"]}"
   ]
  },
  {
   "cell_type": "code",
   "execution_count": 6,
   "id": "aa8bc7ca",
   "metadata": {},
   "outputs": [],
   "source": [
    "# 카테고리\n",
    "mainCategory = {\"01\":\"공공기관\",\n",
    "               \"02\":\"교육시설\",\n",
    "               \"03\":\"공공시설\",\n",
    "               \"04\":\"복지시설\",\n",
    "               \"05\":\"상업시설\",\n",
    "               \"06\":\"문화, 종교, 체육시설\",\n",
    "               \"07\":\"의료시설\",\n",
    "               \"08\":\"장례시설\",\n",
    "               \"09\":\"숙박시설\",\n",
    "               \"10\":\"금융시설\",\n",
    "               \"11\":\"주거시설\",\n",
    "               \"12\":\"공단시설\"}\n",
    "subCategory = {\"UC0A05\":\"우체국\",\"UC0K03\":\"국민건강보험공단 및 지사\",\"UC0O02\":\"전신전화국\",\n",
    "              \"UC0K04\":\"국민연금공단 및 지사\",\"UC0K06\":\"근로복지공단 및 지사\",\n",
    "              \"UC0A04\":\"파출소, 지구대\",\"UC0A08\":\"국민건강보험공단 및 지사\",\n",
    "              \"UC0A09\":\"국민연금공단 및 지사\",\"UC0A11\":\"근로복지공단 및 지사\",\n",
    "              \"UC0K01\":\"국가 또는 지자체 청사\",\"UC0K05\":\"한국장애인고용공단 및 지사\",\n",
    "              \"UC0A10\":\"한국장애인고용공단 및 지사\",\"UC0P01\":\"초등학교\",\"UC0H01\":\"어린이집\",\n",
    "              \"UC0G02\":\"유치원\",\"UC0G03\":\"초등학교\",\"UC0G08\":\"교육원·직업훈련소·학원 등\",\n",
    "              \"UC0G01\":\"특수학교\",\"UC0I01\":\"생활권수련시설\",\"UC0I02\":\"자연권수련시설\",\"UC0G06\":\"전문대학\",\n",
    "              \"UC0N02\":\"운전학원\",\"UC0G04\":\"중학교\",\"UC0G05\":\"고등학교\",\"UC0G07\":\"대학교\",\n",
    "              \"UC0N01\":\"주차장\",\"UC0R02\":\"휴게소\",\"UC0A12\":\"대피소\",\"UC0A13\":\"공중화장실\",\n",
    "              \"UC0H03\":\"노인복지시설\",\"UC0H02\":\"아동복지시설\",\"UC0H04\":\"장애인복지시설\",\n",
    "              \"UC0H05\":\"사회복지시설\",\"UC0A15\":\"봉안당\",\"UC0A01\":\"수퍼마켓·일용품 등의 소매점\",\n",
    "              \"UC0A02\":\"이용원·미용원·목욕장\",\"UC0O01\":\"방송국\",\"UC0E01\":\"도매·소매시장·상점\",\n",
    "              \"UC0B02\":\"휴게음식점·제과점\",\"UC0B01\":\"일반음식점\",\"UC0C02\":\"관람장\",\n",
    "              \"UC0B03\":\"안마시술소\",\"UC0G09\":\"도서관\",\"UC0T02\":\"자연공원\",\"UC0J02\":\"운동장\",\n",
    "              \"UC0T01\":\"도시공원\",\"UC0A03\":\"지역자치센터\",\"UC0C01\":\"공연장\",\n",
    "              \"UC0A03\":\"지역자치센터\",\"UC0A07\":\"공공도서관\",\n",
    "              \"UC0C04\":\"전시장\",\"UC0R01\":\"야외음악당·야외극장·어린이회관\",\n",
    "              \"UC0J01\":\"체육관\",\"UC0C03\":\"집회장\",\"UC0D01\":\"종교집회장\",\n",
    "              \"UC0C05\":\"동·식물원\",\"UC0F01\":\"종합병원\",\"UC0F03\":\"격리병원\",\n",
    "              \"UC0F02\":\"병원·치과병원·한방병원·정신병원·요양병원\",\"UC0A14\":\"의원·치과의원·한의원·조산소\",\n",
    "              \"UC0A06\":\"보건소\",\"UC0S01\":\"장례식장\",\"UC0Q02\":\"봉안당\",\"UC0Q01\":\"화장시설\",\n",
    "              \"UC0L01\":\"일반숙박시설\",\"UC0V01\":\"기숙사\",\"UC0L02\":\"관광숙박시설\",\n",
    "              \"UC0K02\":\"금융업소 등 일반업무시설\",\"UC0U04\":\"다세대주택\",\"UC0U01\":\"아파트\",\"UC0U03\":\"연립주택\",\n",
    "              \"UC0U02\":\"아파트 부대복리시설\",\"UC0M01\":\"공장\"}"
   ]
  },
  {
   "cell_type": "markdown",
   "id": "b1491ba0",
   "metadata": {},
   "source": [
    "## dict to df"
   ]
  },
  {
   "cell_type": "code",
   "execution_count": 7,
   "id": "b9a5bced",
   "metadata": {},
   "outputs": [],
   "source": [
    "main_category=pd.DataFrame(list(mainCategory.items()),\n",
    "                   columns=['main_category_id', 'main_category_name'])\n",
    "sub_category=pd.DataFrame(list(subCategory.items()),\n",
    "                   columns=['sub_category_id', 'sub_category_name'])"
   ]
  },
  {
   "cell_type": "markdown",
   "id": "30be644f",
   "metadata": {},
   "source": [
    "## 사용하지 않는 컬럼 제거"
   ]
  },
  {
   "cell_type": "code",
   "execution_count": 8,
   "id": "cf8b0fa8",
   "metadata": {},
   "outputs": [
    {
     "data": {
      "text/html": [
       "<div>\n",
       "<style scoped>\n",
       "    .dataframe tbody tr th:only-of-type {\n",
       "        vertical-align: middle;\n",
       "    }\n",
       "\n",
       "    .dataframe tbody tr th {\n",
       "        vertical-align: top;\n",
       "    }\n",
       "\n",
       "    .dataframe thead th {\n",
       "        text-align: right;\n",
       "    }\n",
       "</style>\n",
       "<table border=\"1\" class=\"dataframe\">\n",
       "  <thead>\n",
       "    <tr style=\"text-align: right;\">\n",
       "      <th></th>\n",
       "      <th>location_name</th>\n",
       "      <th>sub_category_id</th>\n",
       "      <th>address</th>\n",
       "      <th>lat</th>\n",
       "      <th>lng</th>\n",
       "      <th>phone</th>\n",
       "      <th>opening_hours</th>\n",
       "      <th>facilities</th>\n",
       "    </tr>\n",
       "  </thead>\n",
       "  <tbody>\n",
       "    <tr>\n",
       "      <th>0</th>\n",
       "      <td>과천중학교</td>\n",
       "      <td>UC0G04</td>\n",
       "      <td>경기도 과천시 희망4길 33</td>\n",
       "      <td>37.433183</td>\n",
       "      <td>126.989316</td>\n",
       "      <td>031-950-0311</td>\n",
       "      <td>NaN</td>\n",
       "      <td>객실 및 침실,경보 및 피난설비,계단 또는 승강설비,대변기,복도,소변기,유도 및 안...</td>\n",
       "    </tr>\n",
       "    <tr>\n",
       "      <th>1</th>\n",
       "      <td>청심국제중고등학교</td>\n",
       "      <td>UC0G04</td>\n",
       "      <td>경기도 가평군 미사리로  324-211</td>\n",
       "      <td>37.688432</td>\n",
       "      <td>127.540702</td>\n",
       "      <td>02-507-4901</td>\n",
       "      <td>NaN</td>\n",
       "      <td>객실 및 침실,경보 및 피난설비,계단 또는 승강설비,대변기,복도,소변기,유도 및 안...</td>\n",
       "    </tr>\n",
       "    <tr>\n",
       "      <th>2</th>\n",
       "      <td>원곡중학교</td>\n",
       "      <td>UC0G04</td>\n",
       "      <td>경기도 안산시 단원구 원선로 81</td>\n",
       "      <td>37.331331</td>\n",
       "      <td>126.801738</td>\n",
       "      <td>031-589-8900</td>\n",
       "      <td>NaN</td>\n",
       "      <td>객실 및 침실,경보 및 피난설비,계단 또는 승강설비,대변기,복도,소변기,유도 및 안...</td>\n",
       "    </tr>\n",
       "  </tbody>\n",
       "</table>\n",
       "</div>"
      ],
      "text/plain": [
       "  location_name sub_category_id                address        lat         lng  \\\n",
       "0         과천중학교          UC0G04        경기도 과천시 희망4길 33  37.433183  126.989316   \n",
       "1     청심국제중고등학교          UC0G04  경기도 가평군 미사리로  324-211  37.688432  127.540702   \n",
       "2         원곡중학교          UC0G04     경기도 안산시 단원구 원선로 81  37.331331  126.801738   \n",
       "\n",
       "          phone opening_hours  \\\n",
       "0  031-950-0311           NaN   \n",
       "1   02-507-4901           NaN   \n",
       "2  031-589-8900           NaN   \n",
       "\n",
       "                                          facilities  \n",
       "0  객실 및 침실,경보 및 피난설비,계단 또는 승강설비,대변기,복도,소변기,유도 및 안...  \n",
       "1  객실 및 침실,경보 및 피난설비,계단 또는 승강설비,대변기,복도,소변기,유도 및 안...  \n",
       "2  객실 및 침실,경보 및 피난설비,계단 또는 승강설비,대변기,복도,소변기,유도 및 안...  "
      ]
     },
     "execution_count": 8,
     "metadata": {},
     "output_type": "execute_result"
    }
   ],
   "source": [
    "df = df.drop(['wfcltId', 'salStaDivCd'], axis=1)\n",
    "df.columns\n",
    "df.head(3)"
   ]
  },
  {
   "cell_type": "markdown",
   "id": "07a49c60",
   "metadata": {},
   "source": [
    "## Mysql 연결"
   ]
  },
  {
   "cell_type": "code",
   "execution_count": 9,
   "id": "7c9cfadd",
   "metadata": {},
   "outputs": [],
   "source": [
    "from sqlalchemy import create_engine\n",
    "import pymysql\n",
    "import pandas as pd\n",
    "db_connection_str = 'mysql+pymysql://[db유저이름]:[db password]@[host address]/[db name]'\n",
    "db_connection = create_engine(db_connection_str)\n",
    "conn = db_connection.connect()"
   ]
  },
  {
   "cell_type": "markdown",
   "id": "dd180d02",
   "metadata": {},
   "source": [
    "## df to sql"
   ]
  },
  {
   "cell_type": "code",
   "execution_count": 10,
   "id": "e86ddadd",
   "metadata": {},
   "outputs": [],
   "source": [
    "main_category.to_sql(name='main_category', con=conn, if_exists='append',index=False)\n",
    "sub_category.to_sql(name='sub_category', con=conn, if_exists='append',index=False)"
   ]
  },
  {
   "cell_type": "code",
   "execution_count": 11,
   "id": "3e552257",
   "metadata": {},
   "outputs": [],
   "source": [
    "df.to_sql(name='location', con=conn, if_exists='append',index=False)"
   ]
  },
  {
   "cell_type": "markdown",
   "id": "c6e54c8e",
   "metadata": {},
   "source": [
    "## 확인"
   ]
  },
  {
   "cell_type": "code",
   "execution_count": 12,
   "id": "1f7485be",
   "metadata": {},
   "outputs": [
    {
     "data": {
      "text/html": [
       "<div>\n",
       "<style scoped>\n",
       "    .dataframe tbody tr th:only-of-type {\n",
       "        vertical-align: middle;\n",
       "    }\n",
       "\n",
       "    .dataframe tbody tr th {\n",
       "        vertical-align: top;\n",
       "    }\n",
       "\n",
       "    .dataframe thead th {\n",
       "        text-align: right;\n",
       "    }\n",
       "</style>\n",
       "<table border=\"1\" class=\"dataframe\">\n",
       "  <thead>\n",
       "    <tr style=\"text-align: right;\">\n",
       "      <th></th>\n",
       "      <th>location_id</th>\n",
       "      <th>address</th>\n",
       "      <th>facilities</th>\n",
       "      <th>lat</th>\n",
       "      <th>lng</th>\n",
       "      <th>location_name</th>\n",
       "      <th>opening_hours</th>\n",
       "      <th>phone</th>\n",
       "      <th>sub_category_id</th>\n",
       "    </tr>\n",
       "  </thead>\n",
       "  <tbody>\n",
       "    <tr>\n",
       "      <th>0</th>\n",
       "      <td>1</td>\n",
       "      <td>경기도 과천시 희망4길 33</td>\n",
       "      <td>객실 및 침실,경보 및 피난설비,계단 또는 승강설비,대변기,복도,소변기,유도 및 안...</td>\n",
       "      <td>37.4331830155264</td>\n",
       "      <td>126.98931575841436</td>\n",
       "      <td>과천중학교</td>\n",
       "      <td>None</td>\n",
       "      <td>031-950-0311</td>\n",
       "      <td>UC0G04</td>\n",
       "    </tr>\n",
       "    <tr>\n",
       "      <th>1</th>\n",
       "      <td>2</td>\n",
       "      <td>경기도 가평군 미사리로  324-211</td>\n",
       "      <td>객실 및 침실,경보 및 피난설비,계단 또는 승강설비,대변기,복도,소변기,유도 및 안...</td>\n",
       "      <td>37.68843246963995</td>\n",
       "      <td>127.54070211822878</td>\n",
       "      <td>청심국제중고등학교</td>\n",
       "      <td>None</td>\n",
       "      <td>02-507-4901</td>\n",
       "      <td>UC0G04</td>\n",
       "    </tr>\n",
       "    <tr>\n",
       "      <th>2</th>\n",
       "      <td>3</td>\n",
       "      <td>경기도 안산시 단원구 원선로 81</td>\n",
       "      <td>객실 및 침실,경보 및 피난설비,계단 또는 승강설비,대변기,복도,소변기,유도 및 안...</td>\n",
       "      <td>37.331331411712334</td>\n",
       "      <td>126.80173768944992</td>\n",
       "      <td>원곡중학교</td>\n",
       "      <td>None</td>\n",
       "      <td>031-589-8900</td>\n",
       "      <td>UC0G04</td>\n",
       "    </tr>\n",
       "    <tr>\n",
       "      <th>3</th>\n",
       "      <td>4</td>\n",
       "      <td>성주로 148</td>\n",
       "      <td>객실 및 침실,경보 및 피난설비,계단 또는 승강설비,대변기,복도,소변기,유도 및 안...</td>\n",
       "      <td>37.4790693235209</td>\n",
       "      <td>126.772041507625</td>\n",
       "      <td>부천남중학교</td>\n",
       "      <td>None</td>\n",
       "      <td>031-487-8095</td>\n",
       "      <td>UC0G04</td>\n",
       "    </tr>\n",
       "    <tr>\n",
       "      <th>4</th>\n",
       "      <td>5</td>\n",
       "      <td>범박로 27</td>\n",
       "      <td>객실 및 침실,경보 및 피난설비,계단 또는 승강설비,대변기,복도,소변기,유도 및 안...</td>\n",
       "      <td>37.46869915380877</td>\n",
       "      <td>126.81167588588129</td>\n",
       "      <td>범박고등학교</td>\n",
       "      <td>None</td>\n",
       "      <td>070-7096-7304</td>\n",
       "      <td>UC0G05</td>\n",
       "    </tr>\n",
       "  </tbody>\n",
       "</table>\n",
       "</div>"
      ],
      "text/plain": [
       "   location_id                address  \\\n",
       "0            1        경기도 과천시 희망4길 33   \n",
       "1            2  경기도 가평군 미사리로  324-211   \n",
       "2            3     경기도 안산시 단원구 원선로 81   \n",
       "3            4                성주로 148   \n",
       "4            5                 범박로 27   \n",
       "\n",
       "                                          facilities                 lat  \\\n",
       "0  객실 및 침실,경보 및 피난설비,계단 또는 승강설비,대변기,복도,소변기,유도 및 안...    37.4331830155264   \n",
       "1  객실 및 침실,경보 및 피난설비,계단 또는 승강설비,대변기,복도,소변기,유도 및 안...   37.68843246963995   \n",
       "2  객실 및 침실,경보 및 피난설비,계단 또는 승강설비,대변기,복도,소변기,유도 및 안...  37.331331411712334   \n",
       "3  객실 및 침실,경보 및 피난설비,계단 또는 승강설비,대변기,복도,소변기,유도 및 안...    37.4790693235209   \n",
       "4  객실 및 침실,경보 및 피난설비,계단 또는 승강설비,대변기,복도,소변기,유도 및 안...   37.46869915380877   \n",
       "\n",
       "                  lng location_name opening_hours          phone  \\\n",
       "0  126.98931575841436         과천중학교          None   031-950-0311   \n",
       "1  127.54070211822878     청심국제중고등학교          None    02-507-4901   \n",
       "2  126.80173768944992         원곡중학교          None   031-589-8900   \n",
       "3    126.772041507625        부천남중학교          None   031-487-8095   \n",
       "4  126.81167588588129        범박고등학교          None  070-7096-7304   \n",
       "\n",
       "  sub_category_id  \n",
       "0          UC0G04  \n",
       "1          UC0G04  \n",
       "2          UC0G04  \n",
       "3          UC0G04  \n",
       "4          UC0G05  "
      ]
     },
     "execution_count": 12,
     "metadata": {},
     "output_type": "execute_result"
    }
   ],
   "source": [
    "location = pd.read_sql_query(\"select * from location\", conn)\n",
    "location.head()"
   ]
  }
 ],
 "metadata": {
  "kernelspec": {
   "display_name": "Python 3 (ipykernel)",
   "language": "python",
   "name": "python3"
  },
  "language_info": {
   "codemirror_mode": {
    "name": "ipython",
    "version": 3
   },
   "file_extension": ".py",
   "mimetype": "text/x-python",
   "name": "python",
   "nbconvert_exporter": "python",
   "pygments_lexer": "ipython3",
   "version": "3.9.12"
  }
 },
 "nbformat": 4,
 "nbformat_minor": 5
}
