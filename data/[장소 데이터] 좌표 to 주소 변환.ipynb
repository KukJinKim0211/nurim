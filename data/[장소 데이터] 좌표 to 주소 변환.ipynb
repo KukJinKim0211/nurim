{
 "cells": [
  {
   "cell_type": "code",
   "execution_count": null,
   "id": "f0597e99",
   "metadata": {},
   "outputs": [],
   "source": [
    "import pandas as pd\n",
    "location.to_csv(\"장애인편의시설_주소형식통일.csv\",index=False, encoding=\"utf-8-sig\")\n",
    "# data = pd.read_csv(\"장애인편의시설_주소형식통일.csv\", encoding='utf-8-sig')\n",
    "# location = pd.DataFrame(data)"
   ]
  },
  {
   "cell_type": "code",
   "execution_count": null,
   "id": "ddbd936c",
   "metadata": {},
   "outputs": [],
   "source": [
    "import requests\n",
    "\n",
    "def getAddress(x,y):\n",
    "    url = 'https://dapi.kakao.com/v2/local/geo/coord2address.json'\n",
    "    params = {'x': x,'y': y}\n",
    "    headers = {\"Authorization\": \"KakaoAK 74febb83168bb47763c3c5456925b65d\"}\n",
    "    result = requests.get(url, params=params, headers=headers).json()\n",
    "    if result['meta']['total_count']==1:\n",
    "        result = result['documents'][0]['road_address']\n",
    "        road_address = result['address_name'] if result else None\n",
    "        region_1depth_name=result['region_1depth_name'] if result else None\n",
    "        region_2depth_name=result['region_2depth_name'] if result else None\n",
    "        region_3depth_name=result['region_3depth_name'] if result else None\n",
    "        return [road_address,region_1depth_name,region_2depth_name,region_3depth_name]\n",
    "    return [None,None,None,None]"
   ]
  },
  {
   "cell_type": "code",
   "execution_count": null,
   "id": "c13318a5",
   "metadata": {},
   "outputs": [],
   "source": [
    "for i in range(len(location)):\n",
    "    x=location.iloc[[i]]['lng']\n",
    "    y=location.iloc[[i]]['lat']\n",
    "    result=getAddress(x,y)\n",
    "    location.loc[i,'address_name']=result[0]\n",
    "    location.loc[i,'sido']=result[1]\n",
    "    location.loc[i,'gu']=result[2]\n",
    "    location.loc[i,'dong']=result[3]\n",
    "location.info()"
   ]
  }
 ],
 "metadata": {
  "kernelspec": {
   "display_name": "Python 3 (ipykernel)",
   "language": "python",
   "name": "python3"
  },
  "language_info": {
   "codemirror_mode": {
    "name": "ipython",
    "version": 3
   },
   "file_extension": ".py",
   "mimetype": "text/x-python",
   "name": "python",
   "nbconvert_exporter": "python",
   "pygments_lexer": "ipython3",
   "version": "3.9.12"
  }
 },
 "nbformat": 4,
 "nbformat_minor": 5
}
